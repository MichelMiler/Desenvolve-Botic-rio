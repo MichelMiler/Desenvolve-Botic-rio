{
 "cells": [
  {
   "cell_type": "code",
   "execution_count": 1,
   "id": "a9fde092",
   "metadata": {},
   "outputs": [],
   "source": [
    "import pandas as pd"
   ]
  },
  {
   "cell_type": "code",
   "execution_count": 2,
   "id": "c776fcc3",
   "metadata": {},
   "outputs": [
    {
     "data": {
      "text/html": [
       "<div>\n",
       "<style scoped>\n",
       "    .dataframe tbody tr th:only-of-type {\n",
       "        vertical-align: middle;\n",
       "    }\n",
       "\n",
       "    .dataframe tbody tr th {\n",
       "        vertical-align: top;\n",
       "    }\n",
       "\n",
       "    .dataframe thead th {\n",
       "        text-align: right;\n",
       "    }\n",
       "</style>\n",
       "<table border=\"1\" class=\"dataframe\">\n",
       "  <thead>\n",
       "    <tr style=\"text-align: right;\">\n",
       "      <th></th>\n",
       "      <th>Tipo</th>\n",
       "      <th>Bairro</th>\n",
       "      <th>Quartos</th>\n",
       "      <th>Vagas</th>\n",
       "      <th>Suites</th>\n",
       "      <th>Area</th>\n",
       "      <th>Valor</th>\n",
       "      <th>Condominio</th>\n",
       "      <th>IPTU</th>\n",
       "      <th>Valor m2</th>\n",
       "      <th>Tipo Agregado</th>\n",
       "    </tr>\n",
       "  </thead>\n",
       "  <tbody>\n",
       "    <tr>\n",
       "      <th>0</th>\n",
       "      <td>Apartamento</td>\n",
       "      <td>Centro</td>\n",
       "      <td>1</td>\n",
       "      <td>0</td>\n",
       "      <td>0</td>\n",
       "      <td>15</td>\n",
       "      <td>800.0</td>\n",
       "      <td>390.0</td>\n",
       "      <td>20.0</td>\n",
       "      <td>53.33</td>\n",
       "      <td>Apartamento</td>\n",
       "    </tr>\n",
       "    <tr>\n",
       "      <th>1</th>\n",
       "      <td>Apartamento</td>\n",
       "      <td>Higienópolis</td>\n",
       "      <td>1</td>\n",
       "      <td>0</td>\n",
       "      <td>0</td>\n",
       "      <td>48</td>\n",
       "      <td>800.0</td>\n",
       "      <td>230.0</td>\n",
       "      <td>0.0</td>\n",
       "      <td>16.67</td>\n",
       "      <td>Apartamento</td>\n",
       "    </tr>\n",
       "    <tr>\n",
       "      <th>2</th>\n",
       "      <td>Apartamento</td>\n",
       "      <td>Cachambi</td>\n",
       "      <td>2</td>\n",
       "      <td>0</td>\n",
       "      <td>0</td>\n",
       "      <td>50</td>\n",
       "      <td>1300.0</td>\n",
       "      <td>301.0</td>\n",
       "      <td>17.0</td>\n",
       "      <td>26.00</td>\n",
       "      <td>Apartamento</td>\n",
       "    </tr>\n",
       "    <tr>\n",
       "      <th>3</th>\n",
       "      <td>Apartamento</td>\n",
       "      <td>Grajaú</td>\n",
       "      <td>2</td>\n",
       "      <td>1</td>\n",
       "      <td>0</td>\n",
       "      <td>70</td>\n",
       "      <td>1500.0</td>\n",
       "      <td>642.0</td>\n",
       "      <td>74.0</td>\n",
       "      <td>21.43</td>\n",
       "      <td>Apartamento</td>\n",
       "    </tr>\n",
       "    <tr>\n",
       "      <th>4</th>\n",
       "      <td>Apartamento</td>\n",
       "      <td>Lins de Vasconcelos</td>\n",
       "      <td>3</td>\n",
       "      <td>1</td>\n",
       "      <td>1</td>\n",
       "      <td>90</td>\n",
       "      <td>1500.0</td>\n",
       "      <td>455.0</td>\n",
       "      <td>14.0</td>\n",
       "      <td>16.67</td>\n",
       "      <td>Apartamento</td>\n",
       "    </tr>\n",
       "    <tr>\n",
       "      <th>5</th>\n",
       "      <td>Apartamento</td>\n",
       "      <td>Copacabana</td>\n",
       "      <td>1</td>\n",
       "      <td>0</td>\n",
       "      <td>1</td>\n",
       "      <td>40</td>\n",
       "      <td>2000.0</td>\n",
       "      <td>561.0</td>\n",
       "      <td>50.0</td>\n",
       "      <td>50.00</td>\n",
       "      <td>Apartamento</td>\n",
       "    </tr>\n",
       "    <tr>\n",
       "      <th>6</th>\n",
       "      <td>Apartamento</td>\n",
       "      <td>Freguesia (Jacarepaguá)</td>\n",
       "      <td>3</td>\n",
       "      <td>0</td>\n",
       "      <td>0</td>\n",
       "      <td>54</td>\n",
       "      <td>950.0</td>\n",
       "      <td>300.0</td>\n",
       "      <td>28.0</td>\n",
       "      <td>17.59</td>\n",
       "      <td>Apartamento</td>\n",
       "    </tr>\n",
       "    <tr>\n",
       "      <th>7</th>\n",
       "      <td>Apartamento</td>\n",
       "      <td>Barra da Tijuca</td>\n",
       "      <td>2</td>\n",
       "      <td>1</td>\n",
       "      <td>1</td>\n",
       "      <td>67</td>\n",
       "      <td>1700.0</td>\n",
       "      <td>589.0</td>\n",
       "      <td>147.0</td>\n",
       "      <td>25.37</td>\n",
       "      <td>Apartamento</td>\n",
       "    </tr>\n",
       "    <tr>\n",
       "      <th>8</th>\n",
       "      <td>Apartamento</td>\n",
       "      <td>Tijuca</td>\n",
       "      <td>2</td>\n",
       "      <td>1</td>\n",
       "      <td>0</td>\n",
       "      <td>110</td>\n",
       "      <td>1900.0</td>\n",
       "      <td>700.0</td>\n",
       "      <td>138.0</td>\n",
       "      <td>17.27</td>\n",
       "      <td>Apartamento</td>\n",
       "    </tr>\n",
       "    <tr>\n",
       "      <th>9</th>\n",
       "      <td>Apartamento</td>\n",
       "      <td>Olaria</td>\n",
       "      <td>3</td>\n",
       "      <td>1</td>\n",
       "      <td>0</td>\n",
       "      <td>68</td>\n",
       "      <td>1000.0</td>\n",
       "      <td>670.0</td>\n",
       "      <td>0.0</td>\n",
       "      <td>14.71</td>\n",
       "      <td>Apartamento</td>\n",
       "    </tr>\n",
       "  </tbody>\n",
       "</table>\n",
       "</div>"
      ],
      "text/plain": [
       "          Tipo                   Bairro  Quartos  Vagas  Suites  Area   Valor  \\\n",
       "0  Apartamento                   Centro        1      0       0    15   800.0   \n",
       "1  Apartamento             Higienópolis        1      0       0    48   800.0   \n",
       "2  Apartamento                 Cachambi        2      0       0    50  1300.0   \n",
       "3  Apartamento                   Grajaú        2      1       0    70  1500.0   \n",
       "4  Apartamento      Lins de Vasconcelos        3      1       1    90  1500.0   \n",
       "5  Apartamento               Copacabana        1      0       1    40  2000.0   \n",
       "6  Apartamento  Freguesia (Jacarepaguá)        3      0       0    54   950.0   \n",
       "7  Apartamento          Barra da Tijuca        2      1       1    67  1700.0   \n",
       "8  Apartamento                   Tijuca        2      1       0   110  1900.0   \n",
       "9  Apartamento                   Olaria        3      1       0    68  1000.0   \n",
       "\n",
       "   Condominio   IPTU  Valor m2 Tipo Agregado  \n",
       "0       390.0   20.0     53.33   Apartamento  \n",
       "1       230.0    0.0     16.67   Apartamento  \n",
       "2       301.0   17.0     26.00   Apartamento  \n",
       "3       642.0   74.0     21.43   Apartamento  \n",
       "4       455.0   14.0     16.67   Apartamento  \n",
       "5       561.0   50.0     50.00   Apartamento  \n",
       "6       300.0   28.0     17.59   Apartamento  \n",
       "7       589.0  147.0     25.37   Apartamento  \n",
       "8       700.0  138.0     17.27   Apartamento  \n",
       "9       670.0    0.0     14.71   Apartamento  "
      ]
     },
     "execution_count": 2,
     "metadata": {},
     "output_type": "execute_result"
    }
   ],
   "source": [
    "dados = pd.read_csv('dados/aluguel.csv',sep=';')\n",
    "dados.head(10)"
   ]
  },
  {
   "cell_type": "code",
   "execution_count": 16,
   "id": "b8b1bd44",
   "metadata": {},
   "outputs": [],
   "source": [
    "quartos_count = dados['Quartos'].value_counts().sort_index()"
   ]
  },
  {
   "cell_type": "code",
   "execution_count": 19,
   "id": "5b9a6d9d",
   "metadata": {},
   "outputs": [
    {
     "data": {
      "text/plain": [
       "0 a 2        11231\n",
       "3 e 4         8094\n",
       "5 e 6          470\n",
       "7 ou mais       36\n",
       "dtype: int64"
      ]
     },
     "execution_count": 19,
     "metadata": {},
     "output_type": "execute_result"
    }
   ],
   "source": [
    "Q02 = sum(quartos_count[0:3])\n",
    "Q34 = sum(quartos_count[3:5])\n",
    "Q56 = sum(quartos_count[5:7])\n",
    "Q7_ = sum(quartos_count[7:])\n",
    "QT = [Q02,Q34,Q56,Q7_]\n",
    "QT = pd.Series(QT,index=['0 a 2','3 e 4','5 e 6','7 ou mais'])\n",
    "QT"
   ]
  },
  {
   "cell_type": "code",
   "execution_count": 30,
   "id": "5392656b",
   "metadata": {},
   "outputs": [
    {
     "data": {
      "image/png": "[encoded data removed]",
      "text/plain": [
       "<Figure size 432x288 with 1 Axes>"
      ]
     },
     "metadata": {
      "needs_background": "light"
     },
     "output_type": "display_data"
    }
   ],
   "source": [
    "import matplotlib.pyplot as plt\n",
    "ax = plt.bar(QT.index,QT.values)"
   ]
  },
  {
   "cell_type": "code",
   "execution_count": 32,
   "id": "dbee0b00",
   "metadata": {},
   "outputs": [
    {
     "data": {
      "text/plain": [
       "Text(0.5, 1.0, 'Quantidades de imóveis com determinadas quantidade de quartos')"
      ]
     },
     "execution_count": 32,
     "metadata": {},
     "output_type": "execute_result"
    },
    {
     "data": {
      "image/png": "[encoded data removed]",
      "text/plain": [
       "<Figure size 432x288 with 1 Axes>"
      ]
     },
     "metadata": {
      "needs_background": "light"
     },
     "output_type": "display_data"
    }
   ],
   "source": [
    "ax = QT.plot.bar()\n",
    "ax.set_ylabel('Quantidade',fontsize = 10)\n",
    "ax.set_title('Quantidades de imóveis com determinadas quantidade de quartos')"
   ]
  },
  {
   "cell_type": "code",
   "execution_count": 36,
   "id": "499dc8d4",
   "metadata": {},
   "outputs": [
    {
     "data": {
      "text/plain": [
       "0        0 a 2\n",
       "1        0 a 2\n",
       "2        0 a 2\n",
       "3        0 a 2\n",
       "4        3 e 4\n",
       "         ...  \n",
       "19826    0 a 2\n",
       "19827    0 a 2\n",
       "19828    0 a 2\n",
       "19829    0 a 2\n",
       "19830    0 a 2\n",
       "Name: Quartos, Length: 19831, dtype: category\n",
       "Categories (4, object): ['0 a 2' < '3 e 4' < '5 e 6' < '7 ou mais']"
      ]
     },
     "execution_count": 36,
     "metadata": {},
     "output_type": "execute_result"
    }
   ],
   "source": [
    "classes = [0,2,4,6,14]\n",
    "quartos = pd.cut(dados.Quartos,classes,labels=['0 a 2','3 e 4','5 e 6','7 ou mais'],include_lowest=True)\n",
    "quartos"
   ]
  },
  {
   "cell_type": "code",
   "execution_count": 37,
   "id": "9c99655b",
   "metadata": {},
   "outputs": [
    {
     "data": {
      "text/plain": [
       "0 a 2        11231\n",
       "3 e 4         8094\n",
       "5 e 6          470\n",
       "7 ou mais       36\n",
       "Name: Quartos, dtype: int64"
      ]
     },
     "execution_count": 37,
     "metadata": {},
     "output_type": "execute_result"
    }
   ],
   "source": [
    "quartos.value_counts()"
   ]
  },
  {
   "cell_type": "code",
   "execution_count": null,
   "id": "6e314011",
   "metadata": {},
   "outputs": [],
   "source": []
  }
 ],
 "metadata": {
  "kernelspec": {
   "display_name": "Python 3",
   "language": "python",
   "name": "python3"
  },
  "language_info": {
   "codemirror_mode": {
    "name": "ipython",
    "version": 3
   },
   "file_extension": ".py",
   "mimetype": "text/x-python",
   "name": "python",
   "nbconvert_exporter": "python",
   "pygments_lexer": "ipython3",
   "version": "3.8.8"
  }
 },
 "nbformat": 4,
 "nbformat_minor": 5
}
